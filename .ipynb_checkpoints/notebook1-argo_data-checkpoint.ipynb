{
 "cells": [
  {
   "cell_type": "code",
   "execution_count": null,
   "metadata": {},
   "outputs": [],
   "source": [
    "#1 Download some Argo data using argopy. \n",
    "#-Aim for 15 years of data in a 20deg by 20deg box - i.e., all Argo data in a given region since 2005.  \n",
    "#-The more data the better for estimating the covariance parameters.  When we compute the likelihood, we can just divide the data into chunks of time (each year, or 6 month period, e.g.) and treat each as an independent realizaton, which simplifies the computations considerably. \n",
    "#-Pick a location of your choice!"
   ]
  },
  {
   "cell_type": "code",
   "execution_count": null,
   "metadata": {},
   "outputs": [],
   "source": [
    "#2 Interpolate each profile vertically onto a pressure/depth surface of your choice"
   ]
  },
  {
   "cell_type": "code",
   "execution_count": null,
   "metadata": {},
   "outputs": [],
   "source": [
    "#3 Find the \"mean state\" of temperature by fitting 2d polynomials using a least squares fit.  \n",
    "#-It may also be important to add a seasonal cycle, modeled as a linear combination of seasonal harmonics"
   ]
  },
  {
   "cell_type": "code",
   "execution_count": null,
   "metadata": {},
   "outputs": [],
   "source": [
    "#4 plot the original data and the mean state and make sure it looks sensible"
   ]
  },
  {
   "cell_type": "code",
   "execution_count": null,
   "metadata": {},
   "outputs": [],
   "source": [
    "#5 remove the \"mean state\" from the original data"
   ]
  }
 ],
 "metadata": {
  "kernelspec": {
   "display_name": "Python 3",
   "language": "python",
   "name": "python3"
  },
  "language_info": {
   "codemirror_mode": {
    "name": "ipython",
    "version": 3
   },
   "file_extension": ".py",
   "mimetype": "text/x-python",
   "name": "python",
   "nbconvert_exporter": "python",
   "pygments_lexer": "ipython3",
   "version": "3.7.6"
  }
 },
 "nbformat": 4,
 "nbformat_minor": 4
}
